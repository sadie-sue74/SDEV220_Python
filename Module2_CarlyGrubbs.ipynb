{
 "cells": [
  {
   "cell_type": "markdown",
   "id": "84109c11-f951-4bfb-ab9a-953ee719e28a",
   "metadata": {},
   "source": [
    "# Carly Grubbs, 6/10/2024, Chapter 4 and 6 Things To Do"
   ]
  },
  {
   "cell_type": "markdown",
   "id": "b0629b1b-524f-42f9-a3f3-ef923bd1eb30",
   "metadata": {},
   "source": [
    "# 4.1"
   ]
  },
  {
   "cell_type": "code",
   "execution_count": 8,
   "id": "d9564319-52ea-4136-b351-348c1aea4bb9",
   "metadata": {},
   "outputs": [
    {
     "name": "stdout",
     "output_type": "stream",
     "text": [
      "too low\n"
     ]
    }
   ],
   "source": [
    "# This code will setup two different variables with a number between 1 and 10\n",
    "# Then it will state how different the two numbers\n",
    "# Setting up variables\n",
    "secret = 7\n",
    "guess = 3\n",
    "if guess < secret:\n",
    "    print(\"too low\")     # Checking to see if guess is lower than secret and printing too low\n",
    "elif guess > secret:\n",
    "    print(\"too high\")    # Checking to see if guess is lower than secret and printing too high\n",
    "else:\n",
    "    print(\"just right\")  # Checking to see if guess is equal to secret and printing just right"
   ]
  },
  {
   "cell_type": "code",
   "execution_count": 9,
   "id": "7a705a8f-da1e-45ea-a1bc-e426bd8bac97",
   "metadata": {},
   "outputs": [
    {
     "name": "stdout",
     "output_type": "stream",
     "text": [
      "too high\n"
     ]
    }
   ],
   "source": [
    "# This code will setup two different variables with a number between 1 and 10\n",
    "# Then it will state how different the two numbers\n",
    "# Setting up variables\n",
    "secret = 3\n",
    "guess = 7\n",
    "if guess < secret:\n",
    "    print(\"too low\")     # Checking to see if guess is lower than secret and printing too low\n",
    "elif guess > secret:\n",
    "    print(\"too high\")    # Checking to see if guess is lower than secret and printing too high\n",
    "else:\n",
    "    print(\"just right\")  # Checking to see if guess is equal to secret and printing just right"
   ]
  },
  {
   "cell_type": "code",
   "execution_count": 10,
   "id": "1e908078-64d2-4bb1-8729-9ad84683073a",
   "metadata": {},
   "outputs": [
    {
     "name": "stdout",
     "output_type": "stream",
     "text": [
      "just right\n"
     ]
    }
   ],
   "source": [
    "# This code will setup two different variables with a number between 1 and 10\n",
    "# Then it will state how different the two numbers\n",
    "# Setting up variables\n",
    "secret = 3\n",
    "guess = 3\n",
    "if guess < secret:\n",
    "    print(\"too low\")     # Checking to see if guess is lower than secret and printing too low\n",
    "elif guess > secret:\n",
    "    print(\"too high\")    # Checking to see if guess is lower than secret and printing too high\n",
    "else:\n",
    "    print(\"just right\")  # Checking to see if guess is equal to secret and printing just right"
   ]
  },
  {
   "cell_type": "markdown",
   "id": "617c9a4f-f032-4805-917b-99f5d41f6d9a",
   "metadata": {},
   "source": [
    "# 4.2"
   ]
  },
  {
   "cell_type": "code",
   "execution_count": 17,
   "id": "db1afa5b-b8c2-4fe2-9246-9dd8941b54a8",
   "metadata": {},
   "outputs": [
    {
     "name": "stdout",
     "output_type": "stream",
     "text": [
      "Cherry\n"
     ]
    }
   ],
   "source": [
    "# This code will setup two variables and then display the matching item from cherry, pea, watermelon, or pumpkin\n",
    "# Setting up variables\n",
    "small = True\n",
    "green = False\n",
    "if small and not green:\n",
    "    print(\"Cherry\")     # If the items is small but not green print cherry\n",
    "elif green and not small:\n",
    "    print(\"Watermelon\")     # If the items is green but not small print watermelon\n",
    "elif green and small:\n",
    "    print(\"Pea\")     # If the items is small and green print pea\n",
    "else:\n",
    "    print(\"Pumpkin\")     # If the items is not small and not green print pumpkin"
   ]
  },
  {
   "cell_type": "code",
   "execution_count": 14,
   "id": "c3fd6f19-a24f-43a2-ad50-5109665f6269",
   "metadata": {},
   "outputs": [
    {
     "name": "stdout",
     "output_type": "stream",
     "text": [
      "Pea\n"
     ]
    }
   ],
   "source": [
    "# This code will setup two variables and then display the matching item from cherry, pea, watermelon, or pumpkin\n",
    "# Setting up variables\n",
    "small = True\n",
    "green = True\n",
    "if small and not green:\n",
    "    print(\"Cherry\")     # If the items is small but not green print cherry\n",
    "elif green and not small:\n",
    "    print(\"Watermelon\")     # If the items is green but not small print watermelon\n",
    "elif green and small:\n",
    "    print(\"Pea\")     # If the items is small and green print pea\n",
    "else:\n",
    "    print(\"Pumpkin\")     # If the items is not small and not green print pumpkin"
   ]
  },
  {
   "cell_type": "code",
   "execution_count": 15,
   "id": "163f32d1-ad2e-47cd-b6d1-d16d45c8bc8a",
   "metadata": {},
   "outputs": [
    {
     "name": "stdout",
     "output_type": "stream",
     "text": [
      "Watermelon\n"
     ]
    }
   ],
   "source": [
    "# This code will setup two variables and then display the matching item from cherry, pea, watermelon, or pumpkin\n",
    "# Setting up variables\n",
    "small = False\n",
    "green = True\n",
    "if small and not green:\n",
    "    print(\"Cherry\")     # If the items is small but not green print cherry\n",
    "elif green and not small:\n",
    "    print(\"Watermelon\")     # If the items is green but not small print watermelon\n",
    "elif green and small:\n",
    "    print(\"Pea\")     # If the items is small and green print pea\n",
    "else:\n",
    "    print(\"Pumpkin\")     # If the items is not small and not green print pumpkin"
   ]
  },
  {
   "cell_type": "code",
   "execution_count": 16,
   "id": "cb9a4294-da7b-4919-ae7c-228dedf93ab8",
   "metadata": {},
   "outputs": [
    {
     "name": "stdout",
     "output_type": "stream",
     "text": [
      "Pumpkin\n"
     ]
    }
   ],
   "source": [
    "# This code will setup two variables and then display the matching item from cherry, pea, watermelon, or pumpkin\n",
    "# Setting up variables\n",
    "small = False\n",
    "green = False\n",
    "if small and not green:\n",
    "    print(\"Cherry\")     # If the items is small but not green print cherry\n",
    "elif green and not small:\n",
    "    print(\"Watermelon\")     # If the items is green but not small print watermelon\n",
    "elif green and small:\n",
    "    print(\"Pea\")     # If the items is small and green print pea\n",
    "else:\n",
    "    print(\"Pumpkin\")     # If the items is not small and not green print pumpkin"
   ]
  },
  {
   "cell_type": "markdown",
   "id": "72720044-347a-4fe1-ab4d-7d917c8d59f1",
   "metadata": {},
   "source": [
    "# 6.1"
   ]
  },
  {
   "cell_type": "code",
   "execution_count": 25,
   "id": "769f4eaa-3b91-4a43-aa9f-c3212d4e4985",
   "metadata": {},
   "outputs": [
    {
     "name": "stdout",
     "output_type": "stream",
     "text": [
      "3\n",
      "2\n",
      "1\n",
      "0\n",
      "\n",
      "3\n",
      "2\n",
      "1\n",
      "0\n"
     ]
    }
   ],
   "source": [
    "# This code will print a list of values decending from 3 to 0\n",
    "for x in [3, 2, 1, 0]:\n",
    "    print(x)     # This will print the numbers setup in the list\n",
    "    \n",
    "print()     # Prints a blank line\n",
    "\n",
    "list = [3, 2, 1, 0]     # Creating a list of numbers\n",
    "for y in list:\n",
    "    print(y)     # Printing the numbers in the list"
   ]
  },
  {
   "cell_type": "markdown",
   "id": "fbc0ef6f-afc4-4ab1-af03-b937edcd7051",
   "metadata": {},
   "source": [
    "# 6.2"
   ]
  },
  {
   "cell_type": "code",
   "execution_count": 35,
   "id": "7d45f6ce-8288-40ac-bd4d-c32c45617cca",
   "metadata": {},
   "outputs": [
    {
     "name": "stdout",
     "output_type": "stream",
     "text": [
      "too low\n",
      "too low\n",
      "too low\n",
      "too low\n",
      "too low\n",
      "too low\n",
      "found it\n"
     ]
    }
   ],
   "source": [
    "# This code will let the computer guess a number several times and then state if it is too high, too low, or just right\n",
    "# Setting up the variables\n",
    "guess_me = 7\n",
    "number = 1\n",
    "\n",
    "#  Setting up the while lool to print out the guess results\n",
    "while True:\n",
    "    if number < guess_me:\n",
    "        print(\"too low\")     # Printing if the number is less than the guess_me\n",
    "    elif number > guess_me:\n",
    "        print(\"oops\")     # Printing if the guess is greater than the number\n",
    "        break     # Breaking out if the guess is greater than the number\n",
    "    elif number == guess_me:\n",
    "        print(\"found it\")     # Printing if the number is an exact match to guess_me\n",
    "        break     # Breaking out of the number is an exact match to the guess_me\n",
    "    number += 1    # Increasing number by 1"
   ]
  },
  {
   "cell_type": "code",
   "execution_count": 34,
   "id": "e4c164c6-3954-4d44-86ef-936f42fd9f22",
   "metadata": {},
   "outputs": [
    {
     "name": "stdout",
     "output_type": "stream",
     "text": [
      "oops\n"
     ]
    }
   ],
   "source": [
    "# This code will let the computer guess a number several times and then state if it is too high, too low, or just right\n",
    "# Setting up the variables\n",
    "guess_me = 7\n",
    "number = 9\n",
    "\n",
    "#  Setting up the while lool to print out the guess results\n",
    "while True:\n",
    "    if number < guess_me:\n",
    "        print(\"too low\")     # Printing if the number is less than the guess_me\n",
    "    elif number > guess_me:\n",
    "        print(\"oops\")     # Printing if the guess is greater than the number\n",
    "        break     # Breaking out if the guess is greater than the number\n",
    "    elif number == guess_me:\n",
    "        print(\"found it\")     # Printing if the number is an exact match to guess_me\n",
    "        break     # Breaking out of the number is an exact match to the guess_me\n",
    "    number += 1    # Increasing number by 1"
   ]
  },
  {
   "cell_type": "code",
   "execution_count": 33,
   "id": "fd35def1-a57f-4dff-9836-4443354bbc05",
   "metadata": {},
   "outputs": [
    {
     "name": "stdout",
     "output_type": "stream",
     "text": [
      "found it\n"
     ]
    }
   ],
   "source": [
    "# This code will let the computer guess a number several times and then state if it is too high, too low, or just right\n",
    "# Setting up the variables\n",
    "guess_me = 7\n",
    "number = 7\n",
    "\n",
    "#  Setting up the while lool to print out the guess results\n",
    "while True:\n",
    "    if number < guess_me:\n",
    "        print(\"too low\")     # Printing if the number is less than the guess_me\n",
    "    elif number > guess_me:\n",
    "        print(\"oops\")     # Printing if the guess is greater than the number\n",
    "        break     # Breaking out if the guess is greater than the number\n",
    "    elif number == guess_me:\n",
    "        print(\"found it\")     # Printing if the number is an exact match to guess_me\n",
    "        break     # Breaking out of the number is an exact match to the guess_me\n",
    "    number += 1    # Increasing number by 1"
   ]
  },
  {
   "cell_type": "markdown",
   "id": "bbf5545d-4a4d-40de-a3a8-6496fbdb3e32",
   "metadata": {},
   "source": [
    "# 6.3"
   ]
  },
  {
   "cell_type": "code",
   "execution_count": 39,
   "id": "f5f7134d-0ce8-4690-9253-ac3fdba9cc4d",
   "metadata": {},
   "outputs": [
    {
     "name": "stdout",
     "output_type": "stream",
     "text": [
      "too low\n",
      "too low\n",
      "too low\n",
      "too low\n",
      "too low\n",
      "found it\n"
     ]
    }
   ],
   "source": [
    "# This code will let the computer guess a number several times and then state if it is too high, too low, or just right\n",
    "# Setting up the variables\n",
    "guess_me = 5\n",
    "\n",
    "for number in range(10):     # Setting up a range of numbers from 0 to 10\n",
    "    if number < guess_me:\n",
    "        print(\"too low\")     # Printing if the number is less than the guess_me\n",
    "    elif number > guess_me:\n",
    "        print(\"oops\")     # Printing if the guess is greater than the number\n",
    "        break     # Breaking out if the guess is greater than the number\n",
    "    elif number == guess_me:\n",
    "        print(\"found it\")     # Printing if the number is an exact match to guess_me\n",
    "        break     # Breaking out of the number is an exact match to the guess_me\n",
    "    number += 1    # Increasing number by 1"
   ]
  },
  {
   "cell_type": "code",
   "execution_count": 1,
   "id": "39688215-4e58-4f46-aa5e-3db8d9f63adc",
   "metadata": {},
   "outputs": [
    {
     "name": "stdout",
     "output_type": "stream",
     "text": [
      "found it\n"
     ]
    }
   ],
   "source": [
    "# This code will let the computer guess a number several times and then state if it is too high, too low, or just right\n",
    "# Setting up the variables\n",
    "guess_me = 0\n",
    "\n",
    "for number in range(10):     # Setting up a range of numbers from 0 to 5\n",
    "    if number < guess_me:\n",
    "        print(\"too low\")     # Printing if the number is less than the guess_me\n",
    "    elif number > guess_me:\n",
    "        print(\"oops\")     # Printing if the guess is greater than the number\n",
    "        break     # Breaking out if the guess is greater than the number\n",
    "    elif number == guess_me:\n",
    "        print(\"found it\")     # Printing if the number is an exact match to guess_me\n",
    "        break     # Breaking out of the number is an exact match to the guess_me\n",
    "    number += 1    # Increasing number by 1"
   ]
  },
  {
   "cell_type": "code",
   "execution_count": 2,
   "id": "34d617f1-0b7c-4aa8-b357-0338523bf4d5",
   "metadata": {},
   "outputs": [
    {
     "name": "stdout",
     "output_type": "stream",
     "text": [
      "oops\n"
     ]
    }
   ],
   "source": [
    "# This code will let the computer guess a number several times and then state if it is too high, too low, or just right\n",
    "# Setting up the variables\n",
    "guess_me = 15\n",
    "\n",
    "for number in range(10):     # Setting up a range of numbers from 0 to 10\n",
    "    if number > guess_me:\n",
    "        print(\"too low\")     # Printing if the number is less than the guess_me\n",
    "    elif number == guess_me:\n",
    "        print(\"found it\")     # Printing if the number is an exact match to guess_me\n",
    "        break     # Breaking out if the guess is an exact match to guess_me\n",
    "    else:\n",
    "        print(\"oops\")     # Printing if the guess is greater than the number\n",
    "        break     # Breaking out if the guess is greater than the number\n",
    "    number += 1    # Increasing number by 1"
   ]
  },
  {
   "cell_type": "code",
   "execution_count": null,
   "id": "fad0d01f-fdc8-4700-bfd3-7d4d2fd35d63",
   "metadata": {},
   "outputs": [],
   "source": [
    "# This code will "
   ]
  }
 ],
 "metadata": {
  "kernelspec": {
   "display_name": "Python 3 (ipykernel)",
   "language": "python",
   "name": "python3"
  },
  "language_info": {
   "codemirror_mode": {
    "name": "ipython",
    "version": 3
   },
   "file_extension": ".py",
   "mimetype": "text/x-python",
   "name": "python",
   "nbconvert_exporter": "python",
   "pygments_lexer": "ipython3",
   "version": "3.11.7"
  }
 },
 "nbformat": 4,
 "nbformat_minor": 5
}
